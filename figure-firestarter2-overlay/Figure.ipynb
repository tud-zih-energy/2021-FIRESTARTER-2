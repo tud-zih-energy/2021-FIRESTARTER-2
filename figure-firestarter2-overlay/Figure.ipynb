{
 "cells": [
  {
   "cell_type": "code",
   "execution_count": 2,
   "id": "former-transportation",
   "metadata": {},
   "outputs": [],
   "source": [
    "import seaborn as sns\n",
    "import pandas as pd\n",
    "import numpy as np\n",
    "from os import listdir\n",
    "from os.path import join\n",
    "import matplotlib.pyplot as plt\n",
    "import matplotlib.lines as mlines\n",
    "import matplotlib.patches as mpatches"
   ]
  },
  {
   "cell_type": "code",
   "execution_count": 3,
   "id": "elder-fruit",
   "metadata": {},
   "outputs": [],
   "source": [
    "TIME = 'Time [s]'\n",
    "POWER = 'Power [W]'"
   ]
  },
  {
   "cell_type": "code",
   "execution_count": 4,
   "id": "empty-south",
   "metadata": {},
   "outputs": [
    {
     "data": {
      "text/html": [
       "<div>\n",
       "<style scoped>\n",
       "    .dataframe tbody tr th:only-of-type {\n",
       "        vertical-align: middle;\n",
       "    }\n",
       "\n",
       "    .dataframe tbody tr th {\n",
       "        vertical-align: top;\n",
       "    }\n",
       "\n",
       "    .dataframe thead th {\n",
       "        text-align: right;\n",
       "    }\n",
       "</style>\n",
       "<table border=\"1\" class=\"dataframe\">\n",
       "  <thead>\n",
       "    <tr style=\"text-align: right;\">\n",
       "      <th></th>\n",
       "      <th>Timestamp</th>\n",
       "      <th>elab.conway.power</th>\n",
       "      <th>Time [s]</th>\n",
       "      <th>Power [W]</th>\n",
       "    </tr>\n",
       "  </thead>\n",
       "  <tbody>\n",
       "    <tr>\n",
       "      <th>0</th>\n",
       "      <td>1.623679e+12</td>\n",
       "      <td>97.459715</td>\n",
       "      <td>0.0000</td>\n",
       "      <td>97.459715</td>\n",
       "    </tr>\n",
       "    <tr>\n",
       "      <th>1</th>\n",
       "      <td>1.623679e+12</td>\n",
       "      <td>115.434535</td>\n",
       "      <td>0.8009</td>\n",
       "      <td>115.434535</td>\n",
       "    </tr>\n",
       "    <tr>\n",
       "      <th>2</th>\n",
       "      <td>1.623679e+12</td>\n",
       "      <td>111.159964</td>\n",
       "      <td>1.6017</td>\n",
       "      <td>111.159964</td>\n",
       "    </tr>\n",
       "    <tr>\n",
       "      <th>3</th>\n",
       "      <td>1.623679e+12</td>\n",
       "      <td>117.256680</td>\n",
       "      <td>2.4026</td>\n",
       "      <td>117.256680</td>\n",
       "    </tr>\n",
       "    <tr>\n",
       "      <th>4</th>\n",
       "      <td>1.623679e+12</td>\n",
       "      <td>178.782262</td>\n",
       "      <td>3.2034</td>\n",
       "      <td>178.782262</td>\n",
       "    </tr>\n",
       "    <tr>\n",
       "      <th>...</th>\n",
       "      <td>...</td>\n",
       "      <td>...</td>\n",
       "      <td>...</td>\n",
       "      <td>...</td>\n",
       "    </tr>\n",
       "    <tr>\n",
       "      <th>739</th>\n",
       "      <td>1.623680e+12</td>\n",
       "      <td>361.384351</td>\n",
       "      <td>591.8287</td>\n",
       "      <td>361.384351</td>\n",
       "    </tr>\n",
       "    <tr>\n",
       "      <th>740</th>\n",
       "      <td>1.623680e+12</td>\n",
       "      <td>360.238996</td>\n",
       "      <td>592.6296</td>\n",
       "      <td>360.238996</td>\n",
       "    </tr>\n",
       "    <tr>\n",
       "      <th>741</th>\n",
       "      <td>1.623680e+12</td>\n",
       "      <td>438.331703</td>\n",
       "      <td>593.4304</td>\n",
       "      <td>438.331703</td>\n",
       "    </tr>\n",
       "    <tr>\n",
       "      <th>742</th>\n",
       "      <td>1.623680e+12</td>\n",
       "      <td>439.435972</td>\n",
       "      <td>594.2313</td>\n",
       "      <td>439.435972</td>\n",
       "    </tr>\n",
       "    <tr>\n",
       "      <th>743</th>\n",
       "      <td>1.623680e+12</td>\n",
       "      <td>439.672031</td>\n",
       "      <td>595.0321</td>\n",
       "      <td>439.672031</td>\n",
       "    </tr>\n",
       "  </tbody>\n",
       "</table>\n",
       "<p>744 rows × 4 columns</p>\n",
       "</div>"
      ],
      "text/plain": [
       "        Timestamp  elab.conway.power  Time [s]   Power [W]\n",
       "0    1.623679e+12          97.459715    0.0000   97.459715\n",
       "1    1.623679e+12         115.434535    0.8009  115.434535\n",
       "2    1.623679e+12         111.159964    1.6017  111.159964\n",
       "3    1.623679e+12         117.256680    2.4026  117.256680\n",
       "4    1.623679e+12         178.782262    3.2034  178.782262\n",
       "..            ...                ...       ...         ...\n",
       "739  1.623680e+12         361.384351  591.8287  361.384351\n",
       "740  1.623680e+12         360.238996  592.6296  360.238996\n",
       "741  1.623680e+12         438.331703  593.4304  438.331703\n",
       "742  1.623680e+12         439.435972  594.2313  439.435972\n",
       "743  1.623680e+12         439.672031  595.0321  439.672031\n",
       "\n",
       "[744 rows x 4 columns]"
      ]
     },
     "execution_count": 4,
     "metadata": {},
     "output_type": "execute_result"
    }
   ],
   "source": [
    "df = pd.read_csv('chart_2021-06-14_16-20-47.csv')\n",
    "\n",
    "min_time = df.sort_values(by='Timestamp')['Timestamp'].to_list()[0]\n",
    "df[TIME] = (df['Timestamp'] - min_time) / 1000\n",
    "\n",
    "df[POWER] = df['elab.conway.power']\n",
    "\n",
    "df"
   ]
  },
  {
   "cell_type": "code",
   "execution_count": 5,
   "id": "critical-relevance",
   "metadata": {},
   "outputs": [
    {
     "data": {
      "image/png": "[encoded data removed]",
      "text/plain": [
       "<Figure size 432x144 with 1 Axes>"
      ]
     },
     "metadata": {
      "needs_background": "light"
     },
     "output_type": "display_data"
    }
   ],
   "source": [
    "fig = plt.figure(figsize=(6, 2))\n",
    "ax = fig.add_subplot()\n",
    "\n",
    "sns.lineplot(data=df, x=TIME, y=POWER, ax=ax)\n",
    "ax.set_ylim(0, 500)\n",
    "\n",
    "y_min, y_max = ax.get_ylim()\n",
    "height = y_max - y_min\n",
    "for i in range(20):\n",
    "    marker = mpatches.Rectangle((240+i*20.5+5,y_min), 10, height, color='lightgray')\n",
    "    ax.add_patch(marker)\n",
    "\n",
    "ax.set_xlim(0, 500)\n",
    "\n",
    "plt.savefig('../../paper/fig/runtime_firestarter.pdf', bbox_inches='tight')"
   ]
  },
  {
   "cell_type": "code",
   "execution_count": null,
   "id": "7458deb0",
   "metadata": {},
   "outputs": [],
   "source": []
  }
 ],
 "metadata": {
  "kernelspec": {
   "display_name": "Python 3",
   "language": "python",
   "name": "python3"
  },
  "language_info": {
   "codemirror_mode": {
    "name": "ipython",
    "version": 3
   },
   "file_extension": ".py",
   "mimetype": "text/x-python",
   "name": "python",
   "nbconvert_exporter": "python",
   "pygments_lexer": "ipython3",
   "version": "3.8.5"
  }
 },
 "nbformat": 4,
 "nbformat_minor": 5
}
