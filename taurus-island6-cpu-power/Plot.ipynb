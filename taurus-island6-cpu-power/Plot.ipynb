{
 "cells": [
  {
   "cell_type": "code",
   "execution_count": 1,
   "metadata": {},
   "outputs": [],
   "source": [
    "import pickle\n",
    "import seaborn as sns\n",
    "import pandas as pd\n",
    "import matplotlib.pyplot as plt"
   ]
  },
  {
   "cell_type": "code",
   "execution_count": 2,
   "metadata": {},
   "outputs": [],
   "source": [
    "class Counter(dict):\n",
    "    def __missing__(self, key):\n",
    "        return 0"
   ]
  },
  {
   "cell_type": "code",
   "execution_count": 3,
   "metadata": {},
   "outputs": [],
   "source": [
    "with open('data_18_19.pickle', 'rb') as f:\n",
    "    data = pickle.load(f)\n",
    "\n",
    "cntr = Counter()\n",
    "for chunk in data:\n",
    "    for key, value in chunk.items():\n",
    "        cntr[key] += value"
   ]
  },
  {
   "cell_type": "code",
   "execution_count": 4,
   "metadata": {},
   "outputs": [],
   "source": [
    "df = pd.DataFrame.from_dict(cntr, orient='index')\n",
    "df.reset_index(inplace=True)\n",
    "POWER = 'power in bins of 0.1W'\n",
    "COUNT = 'count'\n",
    "PERCENT = 'count [%]'\n",
    "df.columns = [POWER, COUNT]"
   ]
  },
  {
   "cell_type": "code",
   "execution_count": 5,
   "metadata": {
    "scrolled": true
   },
   "outputs": [],
   "source": [
    "# remove outliers\n",
    "count_trsh = df[df[POWER] > 500].sort_values(COUNT, ascending=False)[COUNT].to_list()[0]\n",
    "df = df[df[COUNT] > count_trsh]"
   ]
  },
  {
   "cell_type": "code",
   "execution_count": 6,
   "metadata": {},
   "outputs": [],
   "source": [
    "total_count = sum(df[COUNT].to_list())"
   ]
  },
  {
   "cell_type": "code",
   "execution_count": 7,
   "metadata": {},
   "outputs": [
    {
     "name": "stdout",
     "output_type": "stream",
     "text": [
      "22.62289423168501% below, 77.37710576831499% above\n"
     ]
    }
   ],
   "source": [
    "below = sum(df[df[POWER] < 100][COUNT].to_list()) / total_count\n",
    "above = sum(df[df[POWER] >= 100][COUNT].to_list()) / total_count\n",
    "print(f\"{below*100}% below, {above*100}% above\")"
   ]
  },
  {
   "cell_type": "code",
   "execution_count": 8,
   "metadata": {},
   "outputs": [],
   "source": [
    "df[PERCENT] = df[COUNT] / total_count * 100"
   ]
  },
  {
   "cell_type": "code",
   "execution_count": 9,
   "metadata": {},
   "outputs": [
    {
     "data": {
      "text/plain": [
       "359.9"
      ]
     },
     "execution_count": 9,
     "metadata": {},
     "output_type": "execute_result"
    }
   ],
   "source": [
    "x_max = df.sort_values(POWER, ascending=False)[POWER].to_list()[0]\n",
    "x_max"
   ]
  },
  {
   "cell_type": "code",
   "execution_count": 10,
   "metadata": {
    "scrolled": false
   },
   "outputs": [
    {
     "data": {
      "image/png": "[encoded data removed]",
      "text/plain": [
       "<Figure size 432x288 with 1 Axes>"
      ]
     },
     "metadata": {
      "needs_background": "light"
     },
     "output_type": "display_data"
    }
   ],
   "source": [
    "p = sns.lineplot(x=POWER, y=PERCENT, data=df)\n",
    "p.set_ylim(0)\n",
    "p.set_xlim(0, x_max)\n",
    "plt.savefig('../../paper/fig/island6_node_power.pdf', bbox_inches='tight')"
   ]
  },
  {
   "cell_type": "code",
   "execution_count": 11,
   "metadata": {
    "scrolled": false
   },
   "outputs": [
    {
     "data": {
      "image/png": "[encoded data removed]",
      "text/plain": [
       "<Figure size 432x288 with 1 Axes>"
      ]
     },
     "metadata": {
      "needs_background": "light"
     },
     "output_type": "display_data"
    }
   ],
   "source": [
    "p = sns.ecdfplot(x=POWER, weights=COUNT, stat='proportion', data=df)\n",
    "p.set_xlim(0, x_max)\n",
    "plt.savefig('../../paper/fig/island6_node_power_ecdf.pdf', bbox_inches='tight')"
   ]
  },
  {
   "cell_type": "code",
   "execution_count": 12,
   "metadata": {},
   "outputs": [
    {
     "data": {
      "text/html": [
       "<div>\n",
       "<style scoped>\n",
       "    .dataframe tbody tr th:only-of-type {\n",
       "        vertical-align: middle;\n",
       "    }\n",
       "\n",
       "    .dataframe tbody tr th {\n",
       "        vertical-align: top;\n",
       "    }\n",
       "\n",
       "    .dataframe thead th {\n",
       "        text-align: right;\n",
       "    }\n",
       "</style>\n",
       "<table border=\"1\" class=\"dataframe\">\n",
       "  <thead>\n",
       "    <tr style=\"text-align: right;\">\n",
       "      <th></th>\n",
       "      <th>power in bins of 0.1W</th>\n",
       "      <th>count</th>\n",
       "      <th>count [%]</th>\n",
       "    </tr>\n",
       "  </thead>\n",
       "  <tbody>\n",
       "    <tr>\n",
       "      <th>14</th>\n",
       "      <td>79.9</td>\n",
       "      <td>511112</td>\n",
       "      <td>0.114846</td>\n",
       "    </tr>\n",
       "    <tr>\n",
       "      <th>21</th>\n",
       "      <td>79.8</td>\n",
       "      <td>519950</td>\n",
       "      <td>0.116832</td>\n",
       "    </tr>\n",
       "    <tr>\n",
       "      <th>5</th>\n",
       "      <td>79.7</td>\n",
       "      <td>530351</td>\n",
       "      <td>0.119169</td>\n",
       "    </tr>\n",
       "    <tr>\n",
       "      <th>13</th>\n",
       "      <td>79.6</td>\n",
       "      <td>540577</td>\n",
       "      <td>0.121467</td>\n",
       "    </tr>\n",
       "    <tr>\n",
       "      <th>3</th>\n",
       "      <td>79.5</td>\n",
       "      <td>549674</td>\n",
       "      <td>0.123511</td>\n",
       "    </tr>\n",
       "    <tr>\n",
       "      <th>...</th>\n",
       "      <td>...</td>\n",
       "      <td>...</td>\n",
       "      <td>...</td>\n",
       "    </tr>\n",
       "    <tr>\n",
       "      <th>2650</th>\n",
       "      <td>71.6</td>\n",
       "      <td>572744</td>\n",
       "      <td>0.128695</td>\n",
       "    </tr>\n",
       "    <tr>\n",
       "      <th>2738</th>\n",
       "      <td>71.5</td>\n",
       "      <td>555695</td>\n",
       "      <td>0.124864</td>\n",
       "    </tr>\n",
       "    <tr>\n",
       "      <th>2736</th>\n",
       "      <td>71.4</td>\n",
       "      <td>538754</td>\n",
       "      <td>0.121057</td>\n",
       "    </tr>\n",
       "    <tr>\n",
       "      <th>2740</th>\n",
       "      <td>71.3</td>\n",
       "      <td>521141</td>\n",
       "      <td>0.117100</td>\n",
       "    </tr>\n",
       "    <tr>\n",
       "      <th>2729</th>\n",
       "      <td>71.2</td>\n",
       "      <td>504123</td>\n",
       "      <td>0.113276</td>\n",
       "    </tr>\n",
       "  </tbody>\n",
       "</table>\n",
       "<p>88 rows × 3 columns</p>\n",
       "</div>"
      ],
      "text/plain": [
       "      power in bins of 0.1W   count  count [%]\n",
       "14                     79.9  511112   0.114846\n",
       "21                     79.8  519950   0.116832\n",
       "5                      79.7  530351   0.119169\n",
       "13                     79.6  540577   0.121467\n",
       "3                      79.5  549674   0.123511\n",
       "...                     ...     ...        ...\n",
       "2650                   71.6  572744   0.128695\n",
       "2738                   71.5  555695   0.124864\n",
       "2736                   71.4  538754   0.121057\n",
       "2740                   71.3  521141   0.117100\n",
       "2729                   71.2  504123   0.113276\n",
       "\n",
       "[88 rows x 3 columns]"
      ]
     },
     "execution_count": 12,
     "metadata": {},
     "output_type": "execute_result"
    }
   ],
   "source": [
    "df[df[COUNT]>5e5].sort_values(POWER, ascending=False)"
   ]
  },
  {
   "cell_type": "code",
   "execution_count": 13,
   "metadata": {
    "scrolled": true
   },
   "outputs": [
    {
     "data": {
      "text/html": [
       "<div>\n",
       "<style scoped>\n",
       "    .dataframe tbody tr th:only-of-type {\n",
       "        vertical-align: middle;\n",
       "    }\n",
       "\n",
       "    .dataframe tbody tr th {\n",
       "        vertical-align: top;\n",
       "    }\n",
       "\n",
       "    .dataframe thead th {\n",
       "        text-align: right;\n",
       "    }\n",
       "</style>\n",
       "<table border=\"1\" class=\"dataframe\">\n",
       "  <thead>\n",
       "    <tr style=\"text-align: right;\">\n",
       "      <th></th>\n",
       "      <th>power in bins of 0.1W</th>\n",
       "      <th>count</th>\n",
       "      <th>count [%]</th>\n",
       "    </tr>\n",
       "  </thead>\n",
       "  <tbody>\n",
       "    <tr>\n",
       "      <th>3079</th>\n",
       "      <td>359.9</td>\n",
       "      <td>59</td>\n",
       "      <td>0.000013</td>\n",
       "    </tr>\n",
       "    <tr>\n",
       "      <th>3081</th>\n",
       "      <td>359.8</td>\n",
       "      <td>61</td>\n",
       "      <td>0.000014</td>\n",
       "    </tr>\n",
       "    <tr>\n",
       "      <th>3090</th>\n",
       "      <td>359.0</td>\n",
       "      <td>62</td>\n",
       "      <td>0.000014</td>\n",
       "    </tr>\n",
       "    <tr>\n",
       "      <th>3067</th>\n",
       "      <td>358.9</td>\n",
       "      <td>99</td>\n",
       "      <td>0.000022</td>\n",
       "    </tr>\n",
       "    <tr>\n",
       "      <th>3068</th>\n",
       "      <td>358.8</td>\n",
       "      <td>94</td>\n",
       "      <td>0.000021</td>\n",
       "    </tr>\n",
       "    <tr>\n",
       "      <th>...</th>\n",
       "      <td>...</td>\n",
       "      <td>...</td>\n",
       "      <td>...</td>\n",
       "    </tr>\n",
       "    <tr>\n",
       "      <th>5826</th>\n",
       "      <td>4.2</td>\n",
       "      <td>351</td>\n",
       "      <td>0.000079</td>\n",
       "    </tr>\n",
       "    <tr>\n",
       "      <th>5824</th>\n",
       "      <td>4.1</td>\n",
       "      <td>4959</td>\n",
       "      <td>0.001114</td>\n",
       "    </tr>\n",
       "    <tr>\n",
       "      <th>3521</th>\n",
       "      <td>4.0</td>\n",
       "      <td>2347</td>\n",
       "      <td>0.000527</td>\n",
       "    </tr>\n",
       "    <tr>\n",
       "      <th>5823</th>\n",
       "      <td>3.9</td>\n",
       "      <td>1415</td>\n",
       "      <td>0.000318</td>\n",
       "    </tr>\n",
       "    <tr>\n",
       "      <th>2394</th>\n",
       "      <td>0.0</td>\n",
       "      <td>512</td>\n",
       "      <td>0.000115</td>\n",
       "    </tr>\n",
       "  </tbody>\n",
       "</table>\n",
       "<p>3092 rows × 3 columns</p>\n",
       "</div>"
      ],
      "text/plain": [
       "      power in bins of 0.1W  count  count [%]\n",
       "3079                  359.9     59   0.000013\n",
       "3081                  359.8     61   0.000014\n",
       "3090                  359.0     62   0.000014\n",
       "3067                  358.9     99   0.000022\n",
       "3068                  358.8     94   0.000021\n",
       "...                     ...    ...        ...\n",
       "5826                    4.2    351   0.000079\n",
       "5824                    4.1   4959   0.001114\n",
       "3521                    4.0   2347   0.000527\n",
       "5823                    3.9   1415   0.000318\n",
       "2394                    0.0    512   0.000115\n",
       "\n",
       "[3092 rows x 3 columns]"
      ]
     },
     "execution_count": 13,
     "metadata": {},
     "output_type": "execute_result"
    }
   ],
   "source": [
    "df.sort_values(POWER, ascending=False)"
   ]
  },
  {
   "cell_type": "code",
   "execution_count": 14,
   "metadata": {},
   "outputs": [
    {
     "name": "stdout",
     "output_type": "stream",
     "text": [
      "node taurusi6034 has outliers\n",
      "node taurusi6075 has outliers\n",
      "node taurusi6077 has outliers\n",
      "node taurusi6079 has outliers\n",
      "node taurusi6081 has outliers\n",
      "node taurusi6087 has outliers\n",
      "node taurusi6088 has outliers\n",
      "node taurusi6090 has outliers\n",
      "node taurusi6093 has outliers\n",
      "node taurusi6095 has outliers\n",
      "node taurusi6096 has outliers\n",
      "node taurusi6104 has outliers\n",
      "node taurusi6107 has outliers\n",
      "node taurusi6111 has outliers\n",
      "node taurusi6114 has outliers\n",
      "node taurusi6116 has outliers\n",
      "node taurusi6121 has outliers\n",
      "node taurusi6127 has outliers\n",
      "node taurusi6136 has outliers\n",
      "node taurusi6137 has outliers\n",
      "node taurusi6152 has outliers\n",
      "node taurusi6164 has outliers\n",
      "node taurusi6165 has outliers\n",
      "node taurusi6167 has outliers\n",
      "node taurusi6170 has outliers\n",
      "node taurusi6200 has outliers\n",
      "node taurusi6201 has outliers\n",
      "node taurusi6202 has outliers\n",
      "node taurusi6204 has outliers\n",
      "node taurusi6205 has outliers\n",
      "node taurusi6208 has outliers\n",
      "node taurusi6211 has outliers\n",
      "node taurusi6213 has outliers\n",
      "node taurusi6214 has outliers\n",
      "node taurusi6215 has outliers\n",
      "node taurusi6250 has outliers\n",
      "node taurusi6255 has outliers\n",
      "node taurusi6257 has outliers\n",
      "node taurusi6290 has outliers\n",
      "node taurusi6332 has outliers\n",
      "node taurusi6345 has outliers\n",
      "node taurusi6348 has outliers\n",
      "node taurusi6354 has outliers\n",
      "node taurusi6358 has outliers\n",
      "node taurusi6359 has outliers\n",
      "node taurusi6360 has outliers\n",
      "node taurusi6403 has outliers\n",
      "node taurusi6413 has outliers\n",
      "node taurusi6414 has outliers\n",
      "node taurusi6416 has outliers\n",
      "node taurusi6425 has outliers\n",
      "node taurusi6434 has outliers\n",
      "node taurusi6438 has outliers\n",
      "node taurusi6443 has outliers\n",
      "no data for node taurusi6449\n",
      "no data for node taurusi6450\n",
      "node taurusi6468 has outliers\n",
      "node taurusi6469 has outliers\n",
      "node taurusi6471 has outliers\n",
      "node taurusi6482 has outliers\n",
      "node taurusi6497 has outliers\n",
      "node taurusi6499 has outliers\n",
      "node taurusi6500 has outliers\n",
      "node taurusi6501 has outliers\n",
      "node taurusi6502 has outliers\n",
      "node taurusi6506 has outliers\n",
      "node taurusi6516 has outliers\n",
      "node taurusi6517 has outliers\n",
      "node taurusi6518 has outliers\n",
      "node taurusi6519 has outliers\n",
      "node taurusi6523 has outliers\n",
      "node taurusi6525 has outliers\n",
      "node taurusi6533 has outliers\n",
      "node taurusi6534 has outliers\n",
      "node taurusi6535 has outliers\n",
      "node taurusi6536 has outliers\n",
      "node taurusi6537 has outliers\n",
      "node taurusi6538 has outliers\n",
      "node taurusi6539 has outliers\n",
      "node taurusi6542 has outliers\n",
      "node taurusi6543 has outliers\n",
      "node taurusi6544 has outliers\n",
      "node taurusi6546 has outliers\n",
      "node taurusi6547 has outliers\n",
      "node taurusi6548 has outliers\n",
      "node taurusi6549 has outliers\n",
      "node taurusi6552 has outliers\n",
      "node taurusi6553 has outliers\n",
      "node taurusi6556 has outliers\n",
      "node taurusi6559 has outliers\n",
      "node taurusi6561 has outliers\n",
      "node taurusi6562 has outliers\n",
      "node taurusi6563 has outliers\n",
      "node taurusi6564 has outliers\n",
      "node taurusi6567 has outliers\n",
      "node taurusi6568 has outliers\n",
      "node taurusi6569 has outliers\n",
      "node taurusi6571 has outliers\n",
      "node taurusi6575 has outliers\n",
      "node taurusi6580 has outliers\n",
      "node taurusi6582 has outliers\n",
      "node taurusi6586 has outliers\n",
      "node taurusi6587 has outliers\n",
      "node taurusi6588 has outliers\n",
      "node taurusi6589 has outliers\n",
      "node taurusi6593 has outliers\n"
     ]
    }
   ],
   "source": [
    "maximum = df.sort_values(POWER, ascending=False)[POWER].to_list()[0]\n",
    "\n",
    "for idx, chunk in enumerate(data):\n",
    "    nodename = f\"taurusi{6001+idx}\"\n",
    "    if len(chunk) == 0:\n",
    "        print(f\"no data for node {nodename}\")\n",
    "        continue\n",
    "    chunk_df = pd.DataFrame.from_dict(chunk, orient='index')\n",
    "    chunk_df.reset_index(inplace=True)\n",
    "    chunk_df.columns = [POWER, COUNT]\n",
    "    # check if above maximum\n",
    "    if chunk_df.sort_values(POWER, ascending=False)[POWER].to_list()[0] > maximum:\n",
    "        print(f\"node {nodename} has outliers\")"
   ]
  }
 ],
 "metadata": {
  "kernelspec": {
   "display_name": "Python 3",
   "language": "python",
   "name": "python3"
  },
  "language_info": {
   "codemirror_mode": {
    "name": "ipython",
    "version": 3
   },
   "file_extension": ".py",
   "mimetype": "text/x-python",
   "name": "python",
   "nbconvert_exporter": "python",
   "pygments_lexer": "ipython3",
   "version": "3.9.4"
  }
 },
 "nbformat": 4,
 "nbformat_minor": 4
}
